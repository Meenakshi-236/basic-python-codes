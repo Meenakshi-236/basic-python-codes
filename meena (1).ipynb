{
 "cells": [
  {
   "cell_type": "code",
   "execution_count": 1,
   "id": "9e81c190-4182-42d0-9a34-b08cea9db993",
   "metadata": {},
   "outputs": [
    {
     "name": "stdout",
     "output_type": "stream",
     "text": [
      "Meenakshi\n"
     ]
    }
   ],
   "source": [
    "print(\"Meenakshi\")"
   ]
  },
  {
   "cell_type": "code",
   "execution_count": 2,
   "id": "0edc8f2f-1203-4428-b9a2-0f1c678c690e",
   "metadata": {},
   "outputs": [
    {
     "name": "stdin",
     "output_type": "stream",
     "text": [
      "enter your name meenakshi\n"
     ]
    },
    {
     "name": "stdout",
     "output_type": "stream",
     "text": [
      "your Name: meenakshi\n"
     ]
    }
   ],
   "source": [
    "name=input(\"enter your name\")\n",
    "print(\"your Name:\",name)"
   ]
  },
  {
   "cell_type": "code",
   "execution_count": 4,
   "id": "c65b2126-edc8-4ea5-8c9a-b3627553cba4",
   "metadata": {},
   "outputs": [
    {
     "name": "stdin",
     "output_type": "stream",
     "text": [
      "enter your first number 6\n",
      "enter your second number 12\n"
     ]
    },
    {
     "name": "stdout",
     "output_type": "stream",
     "text": [
      "first number: 6\n",
      "second number: 12\n"
     ]
    }
   ],
   "source": [
    "num1=input(\"enter your first number\")\n",
    "num2=input(\"enter your second number\")\n",
    "print(\"first number:\",num1)\n",
    "print(\"second number:\",num2)"
   ]
  },
  {
   "cell_type": "code",
   "execution_count": 6,
   "id": "3172842f-f31f-4157-9581-9ef57b5fd18d",
   "metadata": {},
   "outputs": [
    {
     "name": "stdin",
     "output_type": "stream",
     "text": [
      "enter your first number 5\n",
      "enter your second number 10\n"
     ]
    },
    {
     "name": "stdout",
     "output_type": "stream",
     "text": [
      "sum of two values: 15\n"
     ]
    }
   ],
   "source": [
    "num1=int(input(\"enter your first number\"))\n",
    "num2=int(input(\"enter your second number\"))\n",
    "sum=num1+num2\n",
    "print(\"sum of two values:\",sum)"
   ]
  },
  {
   "cell_type": "code",
   "execution_count": 7,
   "id": "c59560f5-3ea6-455d-b8cd-ab519087ffd7",
   "metadata": {},
   "outputs": [
    {
     "name": "stdin",
     "output_type": "stream",
     "text": [
      "enter your first name meenakshi\n",
      "enter your last name menti\n"
     ]
    },
    {
     "name": "stdout",
     "output_type": "stream",
     "text": [
      "your full name: meenakshimenti\n"
     ]
    }
   ],
   "source": [
    "a=input(\"enter your first name\")\n",
    "b=input(\"enter your last name\")\n",
    "c=a+b\n",
    "print(\"your full name:\",c)"
   ]
  },
  {
   "cell_type": "code",
   "execution_count": 10,
   "id": "ed984eca-e547-4329-b9f5-bc986f783061",
   "metadata": {},
   "outputs": [
    {
     "name": "stdin",
     "output_type": "stream",
     "text": [
      "enter your first number 10\n",
      "enter your second number 20\n"
     ]
    },
    {
     "name": "stdout",
     "output_type": "stream",
     "text": [
      "a: 20\n",
      "b: 10\n"
     ]
    }
   ],
   "source": [
    "a=int(input(\"enter your first number\"))\n",
    "b=int(input(\"enter your second number\"))\n",
    "a=a+b;\n",
    "b=a-b;\n",
    "a=a-b;\n",
    "print(\"a:\",a)\n",
    "print(\"b:\",b)"
   ]
  },
  {
   "cell_type": "code",
   "execution_count": 11,
   "id": "7fe27205-5e38-4845-8076-a378c1eba564",
   "metadata": {},
   "outputs": [
    {
     "name": "stdin",
     "output_type": "stream",
     "text": [
      "enter your first number 10\n",
      "enter your second number 20\n"
     ]
    },
    {
     "name": "stdout",
     "output_type": "stream",
     "text": [
      "after swapping: 20\n",
      "after swapping: 10\n"
     ]
    }
   ],
   "source": [
    "a=int(input(\"enter your first number\"))\n",
    "b=int(input(\"enter your second number\"))\n",
    "temp=a\n",
    "a=b\n",
    "b=temp;\n",
    "print(\"after swapping:\",a)\n",
    "print(\"after swapping:\",b)\n"
   ]
  },
  {
   "cell_type": "code",
   "execution_count": 12,
   "id": "7dcdd01d-0696-4111-8059-8074e033062c",
   "metadata": {},
   "outputs": [
    {
     "name": "stdin",
     "output_type": "stream",
     "text": [
      "enter your first number 12\n",
      "enter your second number 22.34\n",
      "enter your word true\n"
     ]
    },
    {
     "name": "stdout",
     "output_type": "stream",
     "text": [
      "integer is: 12\n",
      "float is: 22.34\n",
      "boolean is: true\n"
     ]
    }
   ],
   "source": [
    "a=int(input(\"enter your first number\"))\n",
    "b=float(input(\"enter your second number\"))\n",
    "c=str(input(\"enter your word\"))\n",
    "print(\"integer is:\",a)\n",
    "print(\"float is:\",b)\n",
    "print(\"boolean is:\",c)"
   ]
  },
  {
   "cell_type": "code",
   "execution_count": 2,
   "id": "22e0a2ea-91cf-4666-8646-14c19b5f16bc",
   "metadata": {},
   "outputs": [
    {
     "name": "stdout",
     "output_type": "stream",
     "text": [
      "integer is: 12\n",
      "float is: 23\n",
      "boolean is: True\n"
     ]
    }
   ],
   "source": [
    "a=12\n",
    "b=23\n",
    "c=True\n",
    "print(\"integer is:\",a)\n",
    "print(\"float is:\",b)\n",
    "print(\"boolean is:\",c)\n"
   ]
  },
  {
   "cell_type": "code",
   "execution_count": 6,
   "id": "88e921b3-b850-413c-805c-babb599e6dcc",
   "metadata": {},
   "outputs": [
    {
     "name": "stdout",
     "output_type": "stream",
     "text": [
      "tuple is: (10, 20, 30)\n",
      "list is: [10, 20, 30, 10]\n",
      "set is: {10, 20, 30}\n",
      "dictionary is: {'one': 1, 'two': 2, 'three': 3}\n"
     ]
    }
   ],
   "source": [
    "# to print non-primitive data types\n",
    "tuple=(10,20,30)\n",
    "list=[10,20,30,10]\n",
    "set={10,20,30}\n",
    "dict_1={\"one\":1,\"two\":2,\"three\":3}\n",
    "print(\"tuple is:\",tuple)\n",
    "print(\"list is:\",list)\n",
    "print(\"set is:\",set)\n",
    "print(\"dictionary is:\",dict_1)\n",
    "\n"
   ]
  },
  {
   "cell_type": "code",
   "execution_count": 7,
   "id": "b1ec326e-574a-4c2a-96e3-7bb7cf7a4a21",
   "metadata": {},
   "outputs": [
    {
     "name": "stdin",
     "output_type": "stream",
     "text": [
      "enter number 4\n"
     ]
    },
    {
     "name": "stdout",
     "output_type": "stream",
     "text": [
      "16\n"
     ]
    }
   ],
   "source": [
    "#to print square of a number\n",
    "num=int(input(\"enter number\"))\n",
    "b=num**2\n",
    "print(b)"
   ]
  },
  {
   "cell_type": "code",
   "execution_count": 9,
   "id": "08066074-898c-4f26-ac6e-baa22e0039c9",
   "metadata": {},
   "outputs": [
    {
     "name": "stdin",
     "output_type": "stream",
     "text": [
      "enter your first number 2\n",
      "enter your second number 4\n",
      "enter your third numbe 6\n"
     ]
    },
    {
     "name": "stdout",
     "output_type": "stream",
     "text": [
      "average is: 4.0\n"
     ]
    }
   ],
   "source": [
    "# to print avg of 3 num\n",
    "a=int(input(\"enter your first number\"))\n",
    "b=int(input(\"enter your second number\"))\n",
    "c=int(input(\"enter your third numbe\"))\n",
    "average=(a+b+c)/3\n",
    "print(\"average is:\",average)\n",
    "\n",
    "\n",
    "\n"
   ]
  },
  {
   "cell_type": "code",
   "execution_count": 10,
   "id": "660fa663-92f0-44ae-97c9-b4b8e16c20c1",
   "metadata": {},
   "outputs": [
    {
     "name": "stdin",
     "output_type": "stream",
     "text": [
      "enter your  number 10\n"
     ]
    },
    {
     "name": "stdout",
     "output_type": "stream",
     "text": [
      "the result is: 100\n"
     ]
    }
   ],
   "source": [
    "#num multiplied by 10\n",
    "num=int(input(\"enter your  number\"))\n",
    "result=num*10\n",
    "print(\"the result is:\",result)"
   ]
  },
  {
   "cell_type": "code",
   "execution_count": 15,
   "id": "0fb3a350-23a0-441c-9e16-9be2aa6cb5f6",
   "metadata": {},
   "outputs": [
    {
     "name": "stdin",
     "output_type": "stream",
     "text": [
      "enter minutes 4\n"
     ]
    },
    {
     "name": "stdout",
     "output_type": "stream",
     "text": [
      "240\n"
     ]
    }
   ],
   "source": [
    "#minutes to seconds\n",
    "minutes=int(input(\"enter minutes\"))\n",
    "a=60\n",
    "seconds=minutes*a\n",
    "print(seconds)"
   ]
  },
  {
   "cell_type": "code",
   "execution_count": 1,
   "id": "ffb064b2-1c17-447d-8edf-5190f65ec843",
   "metadata": {},
   "outputs": [
    {
     "name": "stdin",
     "output_type": "stream",
     "text": [
      "enter your first number 4.5\n",
      "enter your second number 4.5\n"
     ]
    },
    {
     "name": "stdout",
     "output_type": "stream",
     "text": [
      "the result: 20.25\n"
     ]
    }
   ],
   "source": [
    "#to multiply 2 floating points\n",
    "a=float(input(\"enter your first number\"))\n",
    "b=float(input(\"enter your second number\"))\n",
    "c=a*b\n",
    "print(\"the result:\",c)\n"
   ]
  },
  {
   "cell_type": "code",
   "execution_count": 2,
   "id": "6acd863e-7a07-430d-a260-4d0758084942",
   "metadata": {},
   "outputs": [
    {
     "name": "stdin",
     "output_type": "stream",
     "text": [
      "enter your first number 8\n",
      "enter your second number 10\n",
      "enter your third numbe 6\n"
     ]
    },
    {
     "name": "stdout",
     "output_type": "stream",
     "text": [
      "10\n"
     ]
    }
   ],
   "source": [
    "#max of 3 nums\n",
    "a=int(input(\"enter your first number\"))\n",
    "b=int(input(\"enter your second number\"))\n",
    "c=int(input(\"enter your third numbe\"))\n",
    "print(max(a,b,c))\n"
   ]
  },
  {
   "cell_type": "code",
   "execution_count": 4,
   "id": "6fc83a7a-d9cb-46d8-a00c-cb43ef20a31b",
   "metadata": {},
   "outputs": [
    {
     "name": "stdin",
     "output_type": "stream",
     "text": [
      "enter the n value 50\n"
     ]
    },
    {
     "name": "stdout",
     "output_type": "stream",
     "text": [
      "the natural numbers are: 1275\n",
      "the even numbers are: 2550\n",
      "the odd numbers are: 2500\n"
     ]
    }
   ],
   "source": [
    "# natural,even,odd\n",
    "n=int(input(\"enter the n value\"))\n",
    "natural=n*(n+1)//2\n",
    "even=n*(n+1)\n",
    "odd=n**2\n",
    "print(\"the natural numbers are:\",natural)\n",
    "print(\"the even numbers are:\",even)\n",
    "print(\"the odd numbers are:\",odd)"
   ]
  },
  {
   "cell_type": "code",
   "execution_count": 11,
   "id": "4a3685f3-85e8-4555-9322-e0dda8c587b4",
   "metadata": {},
   "outputs": [
    {
     "name": "stdin",
     "output_type": "stream",
     "text": [
      "enter your name meena\n"
     ]
    },
    {
     "name": "stdout",
     "output_type": "stream",
     "text": [
      "The documents are required are PAN,Aadhar,civil to score more than 700\n"
     ]
    },
    {
     "name": "stdin",
     "output_type": "stream",
     "text": [
      "do you have aadhar card(yes,No: yes\n",
      "do you have PAN card(yes,No: yes\n",
      "do you have civil score: 800\n"
     ]
    },
    {
     "name": "stdout",
     "output_type": "stream",
     "text": [
      "eligible\n"
     ]
    }
   ],
   "source": [
    "name=str(input(\"enter your name\"))\n",
    "print(\"The documents are required are PAN,Aadhar,civil to score more than 700\")\n",
    "a=str(input(\"do you have aadhar card(yes,No:\"))\n",
    "b=str(input(\"do you have PAN card(yes,No:\"))\n",
    "c=int(input(\"do you have civil score:\"))\n",
    "if(a,b==\"yes\" and c>700):\n",
    "    print(\"eligible\")\n",
    "else:\n",
    "    print(\"not eligible\")\n",
    "\n",
    "      "
   ]
  },
  {
   "cell_type": "code",
   "execution_count": 12,
   "id": "61aa73f5-3829-4d95-937e-4625c7500872",
   "metadata": {},
   "outputs": [
    {
     "name": "stdin",
     "output_type": "stream",
     "text": [
      "enter your first number 4\n",
      "enter your second number 7\n"
     ]
    },
    {
     "name": "stdout",
     "output_type": "stream",
     "text": [
      "the sum is: 11\n",
      "the sub is: -3\n",
      "the multiplication is: 28\n",
      "the division is: 0.5714285714285714\n"
     ]
    }
   ],
   "source": [
    "# airthmetic operators\n",
    "a=int(input(\"enter your first number\"))\n",
    "b=int(input(\"enter your second number\"))\n",
    "print(\"the sum is:\",a+b)\n",
    "print(\"the sub is:\",a-b)\n",
    "print(\"the multiplication is:\",a*b)\n",
    "print(\"the division is:\",a/b)\n"
   ]
  },
  {
   "cell_type": "code",
   "execution_count": 13,
   "id": "05a8487d-85d0-47e4-8102-174a04a8797d",
   "metadata": {},
   "outputs": [
    {
     "name": "stdin",
     "output_type": "stream",
     "text": [
      "enter your first number 5\n",
      "enter your second number 8\n"
     ]
    },
    {
     "name": "stdout",
     "output_type": "stream",
     "text": [
      "False\n",
      "False\n",
      "True\n"
     ]
    }
   ],
   "source": [
    "#logical operators\n",
    "a=int(input(\"enter your first number\"))\n",
    "b=int(input(\"enter your second number\"))\n",
    "print(a>0 and b>15)\n",
    "print(a>15 or b<5)\n",
    "print(not(a==10))"
   ]
  },
  {
   "cell_type": "code",
   "execution_count": 18,
   "id": "24f56828-56b1-429c-8570-dbef9f3b0495",
   "metadata": {},
   "outputs": [
    {
     "name": "stdin",
     "output_type": "stream",
     "text": [
      "enter the number 6\n"
     ]
    },
    {
     "name": "stdout",
     "output_type": "stream",
     "text": [
      "positive\n"
     ]
    }
   ],
   "source": [
    "#to print +ve,-ve and 0\n",
    "num=int(input(\"enter the number\"))\n",
    "if(a>0):\n",
    " print(\"positive\")\n",
    "elif(a<0):\n",
    " print(\"negative\")\n",
    "elif(a==0):\n",
    " print(\"Zero\")\n",
    "else:\n",
    " print(\"error\")"
   ]
  },
  {
   "cell_type": "code",
   "execution_count": 19,
   "id": "7d928aba-5c84-4223-820d-64d118a31163",
   "metadata": {},
   "outputs": [
    {
     "name": "stdin",
     "output_type": "stream",
     "text": [
      "enter the number 8\n"
     ]
    },
    {
     "name": "stdout",
     "output_type": "stream",
     "text": [
      "even\n"
     ]
    }
   ],
   "source": [
    "# even or odd\n",
    "num=int(input(\"enter the number\"))\n",
    "if(num%2==0):\n",
    "    print(\"even\")\n",
    "else:\n",
    "    print(\"odd\")"
   ]
  },
  {
   "cell_type": "code",
   "execution_count": 26,
   "id": "1c575d4b-851e-42c1-bbf7-72e05905c54a",
   "metadata": {},
   "outputs": [
    {
     "name": "stdin",
     "output_type": "stream",
     "text": [
      "enter the number 55\n"
     ]
    },
    {
     "name": "stdout",
     "output_type": "stream",
     "text": [
      "number is divisible by 5 & 11\n"
     ]
    }
   ],
   "source": [
    "#divisible by 5&11\n",
    "num=int(input(\"enter the number\"))\n",
    "if(num%5==0 and num%11==0):\n",
    "     print(\"number is divisible by 5 & 11\")\n",
    "else:\n",
    "    print(\" number is not divisible by 5 & 11\")"
   ]
  },
  {
   "cell_type": "code",
   "execution_count": 28,
   "id": "85a19e42-34dc-4e77-88ca-754af8f7443b",
   "metadata": {},
   "outputs": [
    {
     "name": "stdin",
     "output_type": "stream",
     "text": [
      "enter the age 12\n"
     ]
    },
    {
     "name": "stdout",
     "output_type": "stream",
     "text": [
      "your a kid\n"
     ]
    }
   ],
   "source": [
    "# to check age group\n",
    "age=int(input(\"enter the age\"))\n",
    "if(age<13):\n",
    "    print(\"your a kid\")\n",
    "elif(age<=19):\n",
    "    print(\"you are in teenage\")\n",
    "else:\n",
    "    print(\"you are adult\")"
   ]
  },
  {
   "cell_type": "code",
   "execution_count": 32,
   "id": "00f5c4f5-7d6f-4606-887f-96b6cc71527b",
   "metadata": {},
   "outputs": [
    {
     "name": "stdin",
     "output_type": "stream",
     "text": [
      "enter the marks 70\n"
     ]
    },
    {
     "name": "stdout",
     "output_type": "stream",
     "text": [
      "B grade\n",
      "Good\n"
     ]
    }
   ],
   "source": [
    "#grade\n",
    "marks=int(input(\"enter the marks\"))\n",
    "if(marks>=90):\n",
    "    print(\"A grade\")\n",
    "    print(\"excellent\")\n",
    "elif(marks>=70 and marks<=89):\n",
    "    print(\"B grade\")\n",
    "    print(\"Good\")\n",
    "elif(marks>=50 and marks<=69):\n",
    "    print(\"C grade \")\n",
    "elif(marks>=40 and marks<=49):\n",
    "    print(\"D grade \")\n",
    "elif(marks<=40):\n",
    "    print(\" Fail \")\n",
    "else:\n",
    "    print(\"error\")\n",
    "    \n",
    "    \n",
    "    "
   ]
  },
  {
   "cell_type": "code",
   "execution_count": null,
   "id": "5d3634fe-a44f-4a88-b3a1-7aa67767fa3f",
   "metadata": {},
   "outputs": [],
   "source": [
    "# find week of day\n",
    "num=int(input(\"enter your  number\"))\n",
    "if(num==1):\n",
    "    print(\"Monday\")\n",
    "elif(num==2):\n",
    "    print(\"tuesday\")\n",
    "elif(num==3):\n",
    "    print(\"Wednesday\")\n",
    "elif(num==4):\n",
    "    print(\"thursday\")\n",
    "elif(num==5):\n",
    "    print(\"Friday\")\n",
    "elif(num==6):\n",
    "    print(\"Saturday\")\n",
    "elif(num==7):\n",
    "    print(\"sunday\")\n",
    "else:\n",
    "    print(\"invalid\")\n"
   ]
  },
  {
   "cell_type": "code",
   "execution_count": null,
   "id": "9e36441d-be21-4748-9d3d-d9a1ac975a05",
   "metadata": {},
   "outputs": [],
   "source": []
  }
 ],
 "metadata": {
  "kernelspec": {
   "display_name": "Python 3 (ipykernel)",
   "language": "python",
   "name": "python3"
  },
  "language_info": {
   "codemirror_mode": {
    "name": "ipython",
    "version": 3
   },
   "file_extension": ".py",
   "mimetype": "text/x-python",
   "name": "python",
   "nbconvert_exporter": "python",
   "pygments_lexer": "ipython3",
   "version": "3.12.4"
  }
 },
 "nbformat": 4,
 "nbformat_minor": 5
}
